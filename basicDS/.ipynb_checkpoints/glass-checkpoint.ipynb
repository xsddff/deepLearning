{
 "cells": [
  {
   "cell_type": "code",
   "execution_count": 1,
   "id": "dc105315-6dcc-43bd-9bf8-8913eb0a6d34",
   "metadata": {
    "tags": []
   },
   "outputs": [],
   "source": [
    "import torch"
   ]
  },
  {
   "cell_type": "markdown",
   "id": "367dc0f9-ca0e-41f6-a249-9b822cd46fd4",
   "metadata": {},
   "source": [
    "# 张量计算图的数据结构\n",
    "\n",
    "## DAG图存储   （有向无环图）\n",
    "\n",
    "可以类比为哈夫曼树\n",
    "这里的张量分为两个部分： 叶子张量 和 非叶子张量\n",
    "\n",
    "- 叶子张量表示用户自己创建的张量   -->  叶子张量存储梯度，也就是日常神经网络的参数亦即内参\n",
    "- 非叶子张量表示张量运算时候的中间结果   -->  神经网络的归一化层、隐藏层都是非叶子节点\n",
    "\n",
    "## 算法\n",
    "\n",
    "1. 创建计算图\n",
    "\n",
    "- 创建一些张量表示叶子节点  <AccumulateGrad object>   --->  创建 a,b,c,d 四个张量 \n",
    "- 通过叶子节点的运算操作创建非叶子节点\n",
    "    - 对于一些多元运算操作，例如 y = a*b+c  系统会默认创建一个临时节点来存储 tmp = a*b 然后再用y节点来存储tmp和c\n",
    "\n",
    "2. 反向传播\n",
    "\n",
    "- 设置 path表，标记节点是否访问过。\n",
    "    \n",
    "- 每个非叶子节点，本身存储着关于子结点的函数表达外加子节点的列表。列表信息包括，子节点类型和索引\n",
    "    \n",
    "- 往上深度优先搜索。\n",
    "    - 叶子节点： \n",
    "        - 为None: 设置grad属性\n",
    "        - 不为None: 累加grad\n",
    "    - 非叶子节点：将梯度计算的中间结果累乘并继续往上传播\n",
    "    \n",
    "    "
   ]
  },
  {
   "cell_type": "code",
   "execution_count": 72,
   "id": "7797dc2b-f04e-4cb1-9264-8d0544f7d580",
   "metadata": {
    "tags": []
   },
   "outputs": [
    {
     "data": {
      "text/plain": [
       "tensor([0., 1., 2., 3., 4., 5.], requires_grad=True)"
      ]
     },
     "execution_count": 72,
     "metadata": {},
     "output_type": "execute_result"
    }
   ],
   "source": [
    "# y = x^2\n",
    "\n",
    "x = torch.arange(6).float()\n",
    "x.requires_grad_(True)\n",
    "y = x @ x\n",
    "x"
   ]
  },
  {
   "cell_type": "code",
   "execution_count": 73,
   "id": "8cd3e422-643c-4ef4-8263-d85226d1895d",
   "metadata": {
    "tags": []
   },
   "outputs": [
    {
     "data": {
      "text/plain": [
       "tensor([ 0.,  2.,  4.,  6.,  8., 10.])"
      ]
     },
     "execution_count": 73,
     "metadata": {},
     "output_type": "execute_result"
    }
   ],
   "source": [
    "y.backward()\n",
    "x.grad"
   ]
  },
  {
   "cell_type": "code",
   "execution_count": 74,
   "id": "357f201b-2ee1-4903-b8f0-47ad8882c50b",
   "metadata": {
    "tags": []
   },
   "outputs": [
    {
     "data": {
      "text/plain": [
       "tensor([1., 1., 1., 1., 1., 1.])"
      ]
     },
     "execution_count": 74,
     "metadata": {},
     "output_type": "execute_result"
    }
   ],
   "source": [
    "x.grad.zero_()\n",
    "y = x.sum()\n",
    "y.backward()    # 这里的反向传播表示的是矩阵偏导\n",
    "x.grad"
   ]
  },
  {
   "cell_type": "code",
   "execution_count": 75,
   "id": "94600069-4d8a-4184-9aec-056cfacc85cb",
   "metadata": {
    "tags": []
   },
   "outputs": [
    {
     "data": {
      "text/plain": [
       "tensor([ 0.,  2.,  4.,  6.,  8., 10.])"
      ]
     },
     "execution_count": 75,
     "metadata": {},
     "output_type": "execute_result"
    }
   ],
   "source": [
    "# 非标量反向传播\n",
    "x.grad.zero_()\n",
    "y = x * x\n",
    "# y.backward(torch.ones(len(x)))\n",
    "y.sum().backward()\n",
    "x.grad"
   ]
  },
  {
   "cell_type": "code",
   "execution_count": 112,
   "id": "0b7a8cc6-7b3f-42c2-9f7c-c517eb690ced",
   "metadata": {
    "tags": []
   },
   "outputs": [
    {
     "name": "stdout",
     "output_type": "stream",
     "text": [
      "((<AccumulateGrad object at 0x7f969b5eab80>, 0), (<StackBackward0 object at 0x7f969c906d30>, 0))\n"
     ]
    }
   ],
   "source": [
    "# detack 张量分离，将分离出来的张量当成一个常数，然后求偏导\n",
    "x.grad.zero_()\n",
    "a = torch.arange(10,16).float()\n",
    "b = torch.arange(20,26).float()\n",
    "a.requires_grad_(True)\n",
    "b.requires_grad_(True)\n",
    "tmp = torch.stack([a,b],dim=0)\n",
    "y = x*tmp\n",
    "u = y    # python复制操作是浅拷贝，用于节省内存\n",
    "z = u*x\n",
    "z.sum().backward()\n",
    "# x.grad\n",
    "print(y.grad_fn.next_functions)"
   ]
  },
  {
   "cell_type": "code",
   "execution_count": null,
   "id": "1aee6a70-9b21-42f6-8865-3ef2a1da0d11",
   "metadata": {},
   "outputs": [],
   "source": []
  }
 ],
 "metadata": {
  "kernelspec": {
   "display_name": "Python 3 (ipykernel)",
   "language": "python",
   "name": "python3"
  },
  "language_info": {
   "codemirror_mode": {
    "name": "ipython",
    "version": 3
   },
   "file_extension": ".py",
   "mimetype": "text/x-python",
   "name": "python",
   "nbconvert_exporter": "python",
   "pygments_lexer": "ipython3",
   "version": "3.8.10"
  }
 },
 "nbformat": 4,
 "nbformat_minor": 5
}
