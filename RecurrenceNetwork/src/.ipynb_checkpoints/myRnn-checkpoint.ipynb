{
 "cells": [
  {
   "cell_type": "code",
   "execution_count": 3,
   "id": "3c0a6fbe-fa72-4ead-a47d-ea78a1a25101",
   "metadata": {
    "tags": []
   },
   "outputs": [],
   "source": [
    "from turtle import color\n",
    "import torch\n",
    "import torch.nn as nn\n",
    "import torch.nn.functional as F\n",
    "import matplotlib.pyplot as plt\n",
    "import numpy as np\n",
    "import random\n",
    "from data import seqDataLoader\n",
    "from data import Vocab,read_dataset,tokenize\n",
    "from models import RnnModelScratch\n",
    "from models import GRUModelScratch\n",
    "from models import lstmModelScratch\n",
    "from tqdm import tqdm\n",
    "import re\n"
   ]
  },
  {
   "cell_type": "code",
   "execution_count": 4,
   "id": "267aa453-b7da-4bc2-b259-a05f41c9b20b",
   "metadata": {
    "tags": []
   },
   "outputs": [],
   "source": [
    "def create_vocabulary(file):\n",
    "    # 加载数据集 和 词表\n",
    "    lines = read_dataset(file)\n",
    "    tokens = tokenize(lines)\n",
    "    corpus = [tk for token in tokens for tk in token]\n",
    "    voc = Vocab(corpus)\n",
    "    return voc,corpus\n",
    "\n",
    "def train(net,corpus,epoches,device='cpu',lr=1):\n",
    "\n",
    "  dataLoader = seqDataLoader(corpus,batch_size=16,num_steps=5,is_random=False)\n",
    "\n",
    "  loss = nn.CrossEntropyLoss()\n",
    "  if isinstance(net,nn.Module):\n",
    "    opt = torch.optim.SGD(net.parameters(),lr=lr)\n",
    "  else:\n",
    "    opt = torch.optim.SGD(net.params,lr=lr)\n",
    "  state = None\n",
    "\n",
    "  total_losses = []\n",
    "  with tqdm(total = epoches,desc='模型训练中') as pbar:\n",
    "    for epoch in range(epoches):\n",
    "      losses = train_epoch(net,state,dataLoader,loss,opt,is_random=False,device=device)\n",
    "      total_losses.append(losses)\n",
    "      if (epoch+1) % 1 == 0:\n",
    "        pbar.update(1)\n",
    "        \n",
    "  return total_losses\n",
    "\n",
    "def train_epoch(model,state,train_iter,loss,opt,is_random=False,device='cpu'):\n",
    "  losses = 0\n",
    "  total = 0\n",
    "  for X,Y in train_iter:   # 有个 batches 数量的 序列，并且序列式拥有顺序的\n",
    "    if state is None or is_random:\n",
    "      state = model.begin_state(X.shape[0],device)\n",
    "    else:\n",
    "      if isinstance(state,tuple):\n",
    "        for s in state:\n",
    "          s.detach_()\n",
    "      else:\n",
    "        state.detach_()     # 对每个batch执行时间步截断\n",
    "  \n",
    "    X = X.to(device)\n",
    "    y_pre,state = model(X,state)\n",
    "    # y = F.one_hot(Y.T.reshape(-1),num_classes=y_pre.shape[-1]).float().to(device)\n",
    "    y = Y.T.reshape(-1).to(device)\n",
    "    l = loss(y_pre,y).mean()\n",
    "    opt.zero_grad()\n",
    "    l.backward()\n",
    "    clip_grad(model,1)   # 计算梯度并梯度裁切\n",
    "    opt.step()\n",
    "    losses += l.item() * X.size(0)\n",
    "    total += X.size(0)\n",
    "  return losses/total\n",
    "\n",
    "def clip_grad(model,theta):\n",
    "  if isinstance(model,nn.Module):\n",
    "    params = [p for p in model.parameters() if p.requires_grad]   # model.parameters()  返回的是参数迭代对象，每个迭代对象是各层网络的参数矩阵\n",
    "  else:\n",
    "    params: list = model.params\n",
    "\n",
    "  tmp = sum(torch.sum(p ** 2) for p in params)\n",
    "  norm = torch.sqrt(tmp)\n",
    "\n",
    "  if norm > theta:\n",
    "    for p in params:\n",
    "      if p.grad is not None:    # 这里模型参数出现None的原因是 在定义torch.nn模块的时候，里面有torch_select模块，有的模型参数没用到\n",
    "        p.grad = p.grad * theta / norm\n",
    "  \n",
    "  # torch.nn.utils.clip_grad.clip_grad_norm_(model.parameters(),theta)"
   ]
  },
  {
   "cell_type": "code",
   "execution_count": 5,
   "id": "20cbbcaa-056d-44d7-9dbc-aa9c0286ba17",
   "metadata": {
    "tags": []
   },
   "outputs": [],
   "source": [
    "device = 'cuda:0'\n",
    "voc,corpus = create_vocabulary('../dataset/time_machine.txt')\n",
    "corpus = voc[corpus]"
   ]
  },
  {
   "cell_type": "markdown",
   "id": "7750b6d3-1419-4c82-8cde-1f3235ec5d47",
   "metadata": {},
   "source": [
    "# 自定义神经网络模块"
   ]
  },
  {
   "cell_type": "code",
   "execution_count": 10,
   "id": "67943ecd-3460-442c-97a8-b7df811448b5",
   "metadata": {
    "tags": []
   },
   "outputs": [
    {
     "name": "stderr",
     "output_type": "stream",
     "text": [
      "模型训练中: 100%|██████████████████████████████████████████████████████████| 300/300 [16:06<00:00,  3.22s/it]\n"
     ]
    }
   ],
   "source": [
    "# 加载模型\n",
    "net_rnn = RnnModelScratch(voc_size=len(voc),num_hiddens=256,device=device,num_layers=3)\n",
    "total_losses_rnn = train(net_rnn,corpus,300,device,lr=1)"
   ]
  },
  {
   "cell_type": "code",
   "execution_count": 11,
   "id": "c163caf1-a0b0-4d14-886e-e75bd3a4f03c",
   "metadata": {
    "tags": []
   },
   "outputs": [
    {
     "name": "stderr",
     "output_type": "stream",
     "text": [
      "模型训练中: 100%|██████████████████████████████████████████████████████████| 100/100 [05:04<00:00,  3.04s/it]\n"
     ]
    }
   ],
   "source": [
    "net_gru = GRUModelScratch(voc_size=len(voc),num_hiddens=256,device=device)\n",
    "total_losses_gru = train(net_gru,corpus,100,device,lr=1)"
   ]
  },
  {
   "cell_type": "code",
   "execution_count": 12,
   "id": "a22c8b21-99a9-42a6-be18-eac21cade180",
   "metadata": {
    "tags": []
   },
   "outputs": [
    {
     "name": "stderr",
     "output_type": "stream",
     "text": [
      "模型训练中: 100%|██████████████████████████████████████████████████████████| 300/300 [17:41<00:00,  3.54s/it]\n"
     ]
    }
   ],
   "source": [
    "net_lstm = lstmModelScratch(voc_size=len(voc),num_hiddens=256,device=device)\n",
    "total_losses_lstm = train(net_lstm,corpus,300,device,lr=1)"
   ]
  },
  {
   "cell_type": "code",
   "execution_count": 13,
   "id": "7b854dfb-df77-4759-98fb-2c1a9d9201c6",
   "metadata": {
    "tags": []
   },
   "outputs": [
    {
     "data": {
      "image/png": "[encoded data removed]",
      "text/plain": [
       "<Figure size 640x480 with 1 Axes>"
      ]
     },
     "metadata": {},
     "output_type": "display_data"
    }
   ],
   "source": [
    "plt.plot(range(len(total_losses_rnn)),total_losses_rnn,color='blue',label='rnn')\n",
    "plt.plot(range(len(total_losses_gru)),total_losses_gru,color='red',label='gru')\n",
    "plt.plot(range(len(total_losses_lstm)),total_losses_lstm,color='green',label='lstm')\n",
    "plt.legend()\n",
    "plt.show()"
   ]
  },
  {
   "cell_type": "code",
   "execution_count": 13,
   "id": "b8c4e930-0d41-4486-8214-7e94b5f569f1",
   "metadata": {
    "tags": []
   },
   "outputs": [],
   "source": [
    "def predict(corpus,prex_nums,model,time_step,device):\n",
    "    outputs = [ corpus[0],corpus[1],corpus[2] ]\n",
    "    def get_data():\n",
    "        return torch.tensor(outputs[-time_step:]).reshape(1,time_step).to(device)\n",
    "    state = model.begin_state(1,device)\n",
    "    for i in corpus[time_step:]:\n",
    "        _,state = model(get_data(),state)\n",
    "        outputs.append(i)\n",
    "    for i in range(prex_nums):\n",
    "        y,state = model(get_data(),state)\n",
    "        y = torch.argmax(y,dim=-1)\n",
    "        outputs += [y_.item() for y_ in y]\n",
    "    return outputs,state"
   ]
  },
  {
   "cell_type": "code",
   "execution_count": 15,
   "id": "134365ed-3485-4217-9afd-72c1464297b8",
   "metadata": {
    "tags": []
   },
   "outputs": [
    {
     "name": "stdout",
     "output_type": "stream",
     "text": [
      "[4, 148, 1, 1010, 261, 7, 36, 95, 1, 645, 4, 336, 4, 135, 66, 12, 42, 3, 1122, 7, 1, 2, 300, 248, 355, 8, 2, 1, 371, 7, 74, 602, 1, 691, 2, 359, 2, 1]\n",
      "i took the starting lever in one hand the distributing i huge i eyes up had came of preserved in the and men years beautiful was and the possibly in thing short the showed and further and the\n"
     ]
    }
   ],
   "source": [
    "# rnn_predict\n",
    "with torch.no_grad():\n",
    "    str = ' I took the starting lever in one hand'\n",
    "    str = re.sub('[^A-Za-z0-9]',' ',str).lower().split()\n",
    "    corpus = voc[str]\n",
    "    predict_str,state = predict(corpus,10,net_rnn,3,device)\n",
    "    print(predict_str)\n",
    "    predict_str = ' '.join(voc(predict_str))\n",
    "    print(predict_str)"
   ]
  },
  {
   "cell_type": "code",
   "execution_count": 16,
   "id": "c1976365-4689-4252-acd0-f2c3ef75a039",
   "metadata": {
    "tags": []
   },
   "outputs": [
    {
     "name": "stdout",
     "output_type": "stream",
     "text": [
      "[4, 148, 1, 1010, 261, 7, 36, 95, 1, 2, 2, 19, 8, 1, 6, 1, 19, 1, 19, 75, 46, 75, 8, 6, 6, 1, 1, 1, 19, 46, 75, 75, 8, 6, 6, 1, 1, 1]\n",
      "i took the starting lever in one hand the and and time was the to the time the time traveller machine traveller was to to the the the time machine traveller traveller was to to the the the\n"
     ]
    }
   ],
   "source": [
    "# gru_predict\n",
    "with torch.no_grad():\n",
    "    str = ' I took the starting lever in one hand'\n",
    "    str = re.sub('[^A-Za-z0-9]',' ',str).lower().split()\n",
    "    corpus = voc[str]\n",
    "    predict_str,state = predict(corpus,10,net_gru,3,device)\n",
    "    print(predict_str)\n",
    "    predict_str = ' '.join(voc(predict_str))\n",
    "    print(predict_str)"
   ]
  },
  {
   "cell_type": "code",
   "execution_count": 17,
   "id": "f2a6506d-e115-4342-99b6-a88337f923fb",
   "metadata": {
    "tags": []
   },
   "outputs": [
    {
     "name": "stdout",
     "output_type": "stream",
     "text": [
      "[4, 148, 1, 1010, 261, 7, 36, 95, 1, 3, 2, 19, 1, 12, 4, 157, 12, 12, 6, 64, 5, 41, 5, 40, 3, 40, 73, 1, 19, 4, 157, 75, 12, 6, 6, 5, 41, 1]\n",
      "i took the starting lever in one hand the of and time the had i sun had had to been a be a little of little man the time i sun traveller had to to a be the\n"
     ]
    }
   ],
   "source": [
    "# lstm_predict\n",
    "with torch.no_grad():\n",
    "    str = ' I took the starting lever in one hand'\n",
    "    str = re.sub('[^A-Za-z0-9]',' ',str).lower().split()\n",
    "    corpus = voc[str]\n",
    "    predict_str,state = predict(corpus,10,net_lstm,3,device)\n",
    "    print(predict_str)\n",
    "    predict_str = ' '.join(voc(predict_str))\n",
    "    print(predict_str)"
   ]
  },
  {
   "cell_type": "markdown",
   "id": "4003b8c4-503e-4aff-bb2c-1801611e705f",
   "metadata": {},
   "source": [
    "# torch.nn 训练模块"
   ]
  },
  {
   "cell_type": "code",
   "execution_count": 6,
   "id": "feeeba62-750f-4227-91bd-b1296e995237",
   "metadata": {
    "tags": []
   },
   "outputs": [],
   "source": [
    "# 这里很经典，如果要将rnn和linear结合起来输出就不能直接用 nn.Sequential ,因为nn.Sequential接受不到模型隐藏层的中间结果\n",
    "# GRU 期望输入 (time_step,batch_size,features) \n",
    "# MLP 期望输出 (batch_size,features)\n",
    "def error_test():\n",
    "    '''\n",
    "    \n",
    "    这个是nn.Moudule调用rnn模块的错误示例  -->  本质原因是 nn.Sequential 拿不到隐藏层中间的向量从而进行适配操作\n",
    "    \n",
    "    '''\n",
    "    gru_layyer = nn.GRU(1,256)\n",
    "    rnn_layyer = nn.RNN(1,256)\n",
    "    model_gru = nn.Sequential(\n",
    "        gru_layyer,\n",
    "        nn.Linear(256,len(voc)),\n",
    "        nn.ReLU()\n",
    "    ).to(device)\n",
    "    model_rnn = nn.Sequential(\n",
    "        rnn_layyer,\n",
    "        nn.Linear(256,len(voc)),\n",
    "        nn.ReLU()\n",
    "    ).to(device)"
   ]
  },
  {
   "cell_type": "code",
   "execution_count": 7,
   "id": "c2ea98db-aaf5-4f48-882b-5768e2b967d5",
   "metadata": {},
   "outputs": [],
   "source": [
    "class rnn_torch(nn.Module):\n",
    "  def __init__(self, voc_size,hidden_size,select_model,num_layers=1,num_directions=1) -> None:\n",
    "    '''\n",
    "    select_model:\n",
    "      1:  rnn\n",
    "      2:  gru\n",
    "      3:  lstm\n",
    "    '''\n",
    "    super().__init__()\n",
    "    self.voc_size = voc_size\n",
    "    self.hidden_size = hidden_size\n",
    "    self.selece_model = select_model\n",
    "    self.num_layers = num_layers\n",
    "    self.num_directions = num_directions\n",
    "    self.rnn = nn.RNN(voc_size,hidden_size)   # (time_step,batch_size,voc_size)\n",
    "    self.gru = nn.GRU(voc_size,hidden_size)\n",
    "    self.lstm = nn.LSTM(voc_size,hidden_size)\n",
    "    self.dense = nn.Linear(hidden_size,voc_size)\n",
    "  \n",
    "  def forward(self,X,state):\n",
    "    '''\n",
    "    x -> (batch_size,time_step,voc_size)\n",
    "    '''\n",
    "    X = X.long()\n",
    "    X = F.one_hot(X.T,num_classes=self.voc_size).float()\n",
    "    if self.selece_model == 1:\n",
    "      X,state = self.rnn(X,state)\n",
    "    elif self.selece_model == 2:\n",
    "      X,state = self.gru(X,state)\n",
    "    elif self.selece_model == 3:\n",
    "      X,state = self.lstm(X,state)\n",
    "    X = X.reshape(-1,self.hidden_size)\n",
    "    Y = torch.relu(self.dense(X))\n",
    "    return Y,state\n",
    "  def begin_state(self,batch_size,device='cpu'):\n",
    "    if self.selece_model == 1 or self.selece_model == 2:\n",
    "      return torch.zeros((self.num_directions*self.num_layers,batch_size,self.hidden_size),device=device).float()\n",
    "    elif self.selece_model == 3:\n",
    "      return (torch.zeros((self.num_directions*self.num_layers,batch_size,self.hidden_size),device=device).float(),\n",
    "              torch.zeros((self.num_directions*self.num_layers,batch_size,self.hidden_size),device=device).float())\n"
   ]
  },
  {
   "cell_type": "code",
   "execution_count": 8,
   "id": "0cc9131a-3da7-49a3-bfd5-736e8489a043",
   "metadata": {
    "tags": []
   },
   "outputs": [
    {
     "name": "stderr",
     "output_type": "stream",
     "text": [
      "模型训练中: 100%|██████████████████████████████████████████████████████████| 100/100 [01:58<00:00,  1.19s/it]\n"
     ]
    }
   ],
   "source": [
    "# rnn\n",
    "torch_net = rnn_torch(voc_size=len(voc),hidden_size=256,select_model=1).to(device)\n",
    "total_losses_torch = train(torch_net,corpus,100,device,lr=1)"
   ]
  },
  {
   "cell_type": "code",
   "execution_count": 9,
   "id": "a4c5ff96-25e6-40c6-ad3c-fd0bb2f9142b",
   "metadata": {
    "tags": []
   },
   "outputs": [
    {
     "name": "stderr",
     "output_type": "stream",
     "text": [
      "模型训练中: 100%|██████████████████████████████████████████████████████████| 100/100 [02:21<00:00,  1.42s/it]\n"
     ]
    }
   ],
   "source": [
    "# gru\n",
    "torch_net_gru = rnn_torch(voc_size=len(voc),hidden_size=256,select_model=2).to(device)\n",
    "total_losses_torch_gru = train(torch_net_gru,corpus,100,device,lr=1)"
   ]
  },
  {
   "cell_type": "code",
   "execution_count": 10,
   "id": "abc0283a-29a5-46b0-9cd0-847aff7d209d",
   "metadata": {},
   "outputs": [
    {
     "name": "stderr",
     "output_type": "stream",
     "text": [
      "模型训练中: 100%|██████████████████████████████████████████████████████████| 300/300 [07:46<00:00,  1.55s/it]\n"
     ]
    }
   ],
   "source": [
    "# lstm\n",
    "torch_net_lstm = rnn_torch(voc_size=len(voc),hidden_size=256,select_model=3).to(device)\n",
    "total_losses_torch_lstm = train(torch_net_lstm,corpus,300,device,lr=1)"
   ]
  },
  {
   "cell_type": "code",
   "execution_count": 11,
   "id": "97e41633-4e4a-42b7-893b-fcb8e81810a4",
   "metadata": {
    "tags": []
   },
   "outputs": [
    {
     "data": {
      "image/png": "[encoded data removed]",
      "text/plain": [
       "<Figure size 640x480 with 1 Axes>"
      ]
     },
     "metadata": {},
     "output_type": "display_data"
    }
   ],
   "source": [
    "plt.plot(range(len(total_losses_torch)),total_losses_torch,color='blue',label='torch_rnn')\n",
    "plt.plot(range(len(total_losses_torch_gru)),total_losses_torch_gru,color='red',label='torch_gru')\n",
    "plt.plot(range(len(total_losses_torch_lstm)),total_losses_torch_lstm,color='green',label='torch_lstm')\n",
    "plt.legend()\n",
    "plt.show()"
   ]
  },
  {
   "cell_type": "code",
   "execution_count": 14,
   "id": "d1447c11-371f-4841-8ea3-04ea29aa3ca5",
   "metadata": {
    "tags": []
   },
   "outputs": [
    {
     "name": "stdout",
     "output_type": "stream",
     "text": [
      "[4, 148, 1, 1010, 261, 7, 36, 95, 1, 2, 2, 19, 3, 3, 2, 1, 1, 2, 19, 3, 3, 3, 1, 1, 1, 19, 3, 3, 3, 1, 1, 1, 19, 3, 3, 3, 1, 1]\n",
      "i took the starting lever in one hand the and and time of of and the the and time of of of the the the time of of of the the the time of of of the the\n"
     ]
    }
   ],
   "source": [
    "# rnn_predict\n",
    "with torch.no_grad():\n",
    "    str = ' I took the starting lever in one hand'\n",
    "    str = re.sub('[^A-Za-z0-9]',' ',str).lower().split()\n",
    "    corpus = voc[str]\n",
    "    predict_str,state = predict(corpus,10,torch_net,3,device)\n",
    "    print(predict_str)\n",
    "    predict_str = ' '.join(voc(predict_str))\n",
    "    print(predict_str)"
   ]
  },
  {
   "cell_type": "code",
   "execution_count": 15,
   "id": "8293a4c1-632d-4c5f-902e-a7fa2ac1e1ad",
   "metadata": {
    "tags": []
   },
   "outputs": [
    {
     "name": "stdout",
     "output_type": "stream",
     "text": [
      "[4, 148, 1, 1010, 261, 7, 36, 95, 1, 1, 1, 3, 3, 3, 1, 1, 1, 3, 3, 3, 1, 1, 1, 3, 3, 3, 1, 1, 1, 3, 3, 3, 1, 1, 1, 3, 3, 3]\n",
      "i took the starting lever in one hand the the the of of of the the the of of of the the the of of of the the the of of of the the the of of of\n"
     ]
    }
   ],
   "source": [
    "# gru_predict\n",
    "with torch.no_grad():\n",
    "    str = ' I took the starting lever in one hand'\n",
    "    str = re.sub('[^A-Za-z0-9]',' ',str).lower().split()\n",
    "    corpus = voc[str]\n",
    "    predict_str,state = predict(corpus,10,torch_net_gru,3,device)\n",
    "    print(predict_str)\n",
    "    predict_str = ' '.join(voc(predict_str))\n",
    "    print(predict_str)"
   ]
  },
  {
   "cell_type": "code",
   "execution_count": 16,
   "id": "661798b9-7495-4e42-99c1-8d0f9d233c01",
   "metadata": {
    "tags": []
   },
   "outputs": [
    {
     "name": "stdout",
     "output_type": "stream",
     "text": [
      "[4, 148, 1, 1010, 261, 7, 36, 95, 2, 2, 2, 4, 4, 4, 5, 12, 6, 5, 2, 4, 3, 3, 12, 5, 5, 2, 3, 3, 3, 5, 5, 5, 3, 3, 3, 3, 5, 5]\n",
      "i took the starting lever in one hand and and and i i i a had to a and i of of had a a and of of of a a a of of of of a a\n"
     ]
    }
   ],
   "source": [
    "# lstm_predict\n",
    "with torch.no_grad():\n",
    "    str = ' I took the starting lever in one hand'\n",
    "    str = re.sub('[^A-Za-z0-9]',' ',str).lower().split()\n",
    "    corpus = voc[str]\n",
    "    predict_str,state = predict(corpus,10,torch_net_lstm,3,device)\n",
    "    print(predict_str)\n",
    "    predict_str = ' '.join(voc(predict_str))\n",
    "    print(predict_str)"
   ]
  },
  {
   "cell_type": "code",
   "execution_count": null,
   "id": "8bdb7b08-c01b-4422-9089-d6dfcd5c92a1",
   "metadata": {},
   "outputs": [],
   "source": []
  }
 ],
 "metadata": {
  "kernelspec": {
   "display_name": "Python 3 (ipykernel)",
   "language": "python",
   "name": "python3"
  },
  "language_info": {
   "codemirror_mode": {
    "name": "ipython",
    "version": 3
   },
   "file_extension": ".py",
   "mimetype": "text/x-python",
   "name": "python",
   "nbconvert_exporter": "python",
   "pygments_lexer": "ipython3",
   "version": "3.8.10"
  }
 },
 "nbformat": 4,
 "nbformat_minor": 5
}
