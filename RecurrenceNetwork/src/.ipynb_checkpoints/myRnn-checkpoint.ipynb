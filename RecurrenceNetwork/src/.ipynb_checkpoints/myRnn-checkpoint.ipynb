{
 "cells": [
  {
   "cell_type": "code",
   "execution_count": 1,
   "id": "3c0a6fbe-fa72-4ead-a47d-ea78a1a25101",
   "metadata": {
    "tags": []
   },
   "outputs": [],
   "source": [
    "from turtle import color\n",
    "import torch\n",
    "import torch.nn as nn\n",
    "import torch.nn.functional as F\n",
    "import matplotlib.pyplot as plt\n",
    "import numpy as np\n",
    "import random\n",
    "from seq import seqDataLoader\n",
    "from voc import Vocab,read_dataset,tokenize\n",
    "from model import RnnModelScratch\n",
    "from GRU import GRUModelScratch\n",
    "from tqdm import tqdm\n",
    "import re\n"
   ]
  },
  {
   "cell_type": "code",
   "execution_count": 2,
   "id": "267aa453-b7da-4bc2-b259-a05f41c9b20b",
   "metadata": {
    "tags": []
   },
   "outputs": [],
   "source": [
    "def create_vocabulary(file):\n",
    "    # 加载数据集 和 词表\n",
    "    lines = read_dataset(file)\n",
    "    tokens = tokenize(lines)\n",
    "    corpus = [tk for token in tokens for tk in token]\n",
    "    voc = Vocab(corpus)\n",
    "    return voc,corpus\n",
    "\n",
    "def train(net,corpus,epoches,device='cpu',lr=1):\n",
    "\n",
    "  dataLoader = seqDataLoader(corpus,batch_size=16,num_steps=5,is_random=True)\n",
    "\n",
    "  loss = nn.CrossEntropyLoss()\n",
    "  if isinstance(net,nn.Module):\n",
    "    opt = torch.optim.SGD(net.parameters(),lr=lr)\n",
    "  else:\n",
    "    opt = torch.optim.SGD(net.params,lr=lr)\n",
    "  state = None\n",
    "\n",
    "  total_losses = []\n",
    "  with tqdm(total = epoches,desc='模型训练中') as pbar:\n",
    "    for epoch in range(epoches):\n",
    "      losses = train_epoch(net,state,dataLoader,loss,opt,is_random=True,device=device)\n",
    "      total_losses.append(losses)\n",
    "      if (epoch+1) % 1 == 0:\n",
    "        pbar.update(1)\n",
    "        \n",
    "  return total_losses\n",
    "\n",
    "\n",
    "\n",
    "def train_epoch(model,state,train_iter,loss,opt,is_random=False,device='cpu'):\n",
    "  losses = 0\n",
    "  total = 0\n",
    "  for X,Y in train_iter:   # 有个 batches 数量的 序列，并且序列式拥有顺序的\n",
    "    if state is None or is_random:\n",
    "      state = model.begin_state(X.shape[0],device)\n",
    "    else:\n",
    "      for s in state:   \n",
    "        s.detach_()     # 对每个batch执行时间步截断\n",
    "  \n",
    "    X = X.to(device)\n",
    "    y_pre,state = model(X,state)\n",
    "    y = F.one_hot(Y.T.reshape(-1),num_classes=y_pre.shape[-1]).float().to(device)\n",
    "    l = loss(y_pre,y).mean()\n",
    "    opt.zero_grad()\n",
    "    l.backward()\n",
    "    clip_grad(model,1)\n",
    "    opt.step()\n",
    "    losses += l.item() * X.size(0)\n",
    "    total += X.size(0)\n",
    "  return losses/total\n",
    "\n",
    "\n",
    "def clip_grad(model,theta):\n",
    "  if isinstance(model,nn.Module):\n",
    "    params = [p for p in model.parameters() if p.requires_grad]   # model.parameters()  返回的是参数迭代对象，每个迭代对象是各层网络的参数矩阵\n",
    "  else:\n",
    "    params: list = model.params\n",
    "\n",
    "  tmp = sum(torch.sum(p ** 2) for p in params)\n",
    "  norm = torch.sqrt(tmp)\n",
    "\n",
    "  if norm > theta:\n",
    "    for p in params:\n",
    "      p.grad = p.grad * theta / norm\n"
   ]
  },
  {
   "cell_type": "code",
   "execution_count": 12,
   "id": "20cbbcaa-056d-44d7-9dbc-aa9c0286ba17",
   "metadata": {
    "tags": []
   },
   "outputs": [],
   "source": [
    "device = 'cuda:0'\n",
    "voc,corpus = create_vocabulary('../dataset/time_machine.txt')\n",
    "corpus = voc[corpus]"
   ]
  },
  {
   "cell_type": "markdown",
   "id": "7750b6d3-1419-4c82-8cde-1f3235ec5d47",
   "metadata": {},
   "source": [
    "# 自定义神经网络模块"
   ]
  },
  {
   "cell_type": "code",
   "execution_count": 13,
   "id": "67943ecd-3460-442c-97a8-b7df811448b5",
   "metadata": {
    "tags": []
   },
   "outputs": [
    {
     "name": "stderr",
     "output_type": "stream",
     "text": [
      "模型训练中: 100%|██████████████████████████████████████████████████████████| 100/100 [03:11<00:00,  1.92s/it]\n"
     ]
    }
   ],
   "source": [
    "# 加载模型\n",
    "net_rnn = RnnModelScratch(voc_size=len(voc),num_hiddens=256,device=device)\n",
    "total_losses_rnn = train(net_rnn,corpus,100,device,lr=1)"
   ]
  },
  {
   "cell_type": "code",
   "execution_count": 14,
   "id": "c163caf1-a0b0-4d14-886e-e75bd3a4f03c",
   "metadata": {
    "tags": []
   },
   "outputs": [
    {
     "name": "stderr",
     "output_type": "stream",
     "text": [
      "模型训练中: 100%|██████████████████████████████████████████████████████████| 100/100 [07:02<00:00,  4.22s/it]\n"
     ]
    }
   ],
   "source": [
    "net_gru = GRUModelScratch(voc_size=len(voc),num_hiddens=256,device=device)\n",
    "total_losses_gru = train(net_gru,corpus,100,device,lr=1)"
   ]
  },
  {
   "cell_type": "code",
   "execution_count": 16,
   "id": "7b854dfb-df77-4759-98fb-2c1a9d9201c6",
   "metadata": {
    "tags": []
   },
   "outputs": [
    {
     "data": {
      "image/png": "[encoded data removed]",
      "text/plain": [
       "<Figure size 640x480 with 1 Axes>"
      ]
     },
     "metadata": {},
     "output_type": "display_data"
    }
   ],
   "source": [
    "plt.plot(range(len(total_losses_rnn)),total_losses_rnn,color='blue',label='rnn')\n",
    "plt.plot(range(len(total_losses_gru)),total_losses_gru,color='red',label='gru')\n",
    "plt.legend()\n",
    "plt.show()"
   ]
  },
  {
   "cell_type": "code",
   "execution_count": 40,
   "id": "b8c4e930-0d41-4486-8214-7e94b5f569f1",
   "metadata": {
    "tags": []
   },
   "outputs": [],
   "source": [
    "def predict(corpus,prex_nums,model,time_step,device):\n",
    "    outputs = [ corpus[0],corpus[1],corpus[2] ]\n",
    "    def get_data():\n",
    "        return torch.tensor(outputs[-time_step:]).reshape(1,time_step).unsqueeze(dim=-1).to(device) if not(isinstance(model,nn.Module)) else torch.tensor(outputs[-time_step:]).reshape(time_step,1).unsqueeze(dim=-1).float().to(device)\n",
    "    H = model.begin_state(1,device) if not(isinstance(model,nn.Module)) else torch.zeros((1,1,256),device=device).float()\n",
    "    for i in corpus[time_step:]:\n",
    "        _,H = model(get_data(),H)\n",
    "        outputs.append(i)\n",
    "    for i in range(prex_nums):\n",
    "        y,H = model(get_data(),H)\n",
    "        y = torch.argmax(y,dim=-1)\n",
    "        outputs += [y_.item() for y_ in y]\n",
    "    return outputs,H"
   ]
  },
  {
   "cell_type": "code",
   "execution_count": 41,
   "id": "134365ed-3485-4217-9afd-72c1464297b8",
   "metadata": {
    "tags": []
   },
   "outputs": [
    {
     "name": "stdout",
     "output_type": "stream",
     "text": [
      "[4, 148, 1, 1010, 261, 7, 36, 95, 1, 3, 2, 439, 1, 15, 3, 19, 179, 163, 75, 43, 77, 17, 1576, 1594, 38, 7, 18, 8, 1, 72, 6, 393, 25, 1, 15, 558, 19, 21]\n",
      "i took the starting lever in one hand the of and sunset the with of time almost green traveller no white for restrictions xii so in you was the are to laws not the with located time this\n"
     ]
    }
   ],
   "source": [
    "# rnn_predict\n",
    "with torch.no_grad():\n",
    "    str = ' I took the starting lever in one hand'\n",
    "    str = re.sub('[^A-Za-z0-9]',' ',str).lower().split()\n",
    "    corpus = voc[str]\n",
    "    predict_str,state = predict(corpus,10,net_rnn,3,device)\n",
    "    print(predict_str)\n",
    "    predict_str = ' '.join(voc(predict_str))\n",
    "    print(predict_str)"
   ]
  },
  {
   "cell_type": "code",
   "execution_count": 42,
   "id": "bb629614-73a6-421b-82da-9c8ab8739622",
   "metadata": {},
   "outputs": [
    {
     "name": "stdout",
     "output_type": "stream",
     "text": [
      "[4, 148, 1, 1010, 261, 7, 36, 95, 1, 3, 1, 19, 1, 186, 3, 53, 3, 1, 44, 1, 53, 245, 53, 44, 1164, 44, 313, 15, 245, 1, 21, 1164, 19, 313, 1577, 75, 22, 18]\n",
      "i took the starting lever in one hand the of the time the terms of project of the gutenberg the project license project gutenberg included gutenberg ebook with license the this included time ebook whatsoever traveller or you\n"
     ]
    }
   ],
   "source": [
    "# gru_predict\n",
    "with torch.no_grad():\n",
    "    str = ' I took the starting lever in one hand'\n",
    "    str = re.sub('[^A-Za-z0-9]',' ',str).lower().split()\n",
    "    corpus = voc[str]\n",
    "    predict_str,state = predict(corpus,10,net_gru,3,device)\n",
    "    print(predict_str)\n",
    "    predict_str = ' '.join(voc(predict_str))\n",
    "    print(predict_str)"
   ]
  },
  {
   "cell_type": "markdown",
   "id": "4003b8c4-503e-4aff-bb2c-1801611e705f",
   "metadata": {},
   "source": [
    "# torch.nn 训练模块"
   ]
  },
  {
   "cell_type": "code",
   "execution_count": 54,
   "id": "feeeba62-750f-4227-91bd-b1296e995237",
   "metadata": {
    "tags": []
   },
   "outputs": [],
   "source": [
    "# 这里很经典，如果要将rnn和linear结合起来输出就不能直接用 nn.Sequential ,因为nn.Sequential接受不到模型隐藏层的中间结果\n",
    "# GRU 期望输入 (time_step,batch_size,features) \n",
    "# MLP 期望输出 (batch_size,features)\n",
    "def error_test():\n",
    "    '''\n",
    "    \n",
    "    这个是nn.Moudule调用rnn模块的错误示例  -->  本质原因是 nn.Sequential 拿不到隐藏层中间的向量从而进行适配操作\n",
    "    \n",
    "    '''\n",
    "    gru_layyer = nn.GRU(1,256)\n",
    "    rnn_layyer = nn.RNN(1,256)\n",
    "    model_gru = nn.Sequential(\n",
    "        gru_layyer,\n",
    "        nn.Linear(256,len(voc)),\n",
    "        nn.ReLU()\n",
    "    ).to(device)\n",
    "    model_rnn = nn.Sequential(\n",
    "        rnn_layyer,\n",
    "        nn.Linear(256,len(voc)),\n",
    "        nn.ReLU()\n",
    "    ).to(device)"
   ]
  },
  {
   "cell_type": "code",
   "execution_count": null,
   "id": "c2ea98db-aaf5-4f48-882b-5768e2b967d5",
   "metadata": {},
   "outputs": [],
   "source": []
  }
 ],
 "metadata": {
  "kernelspec": {
   "display_name": "Python 3 (ipykernel)",
   "language": "python",
   "name": "python3"
  },
  "language_info": {
   "codemirror_mode": {
    "name": "ipython",
    "version": 3
   },
   "file_extension": ".py",
   "mimetype": "text/x-python",
   "name": "python",
   "nbconvert_exporter": "python",
   "pygments_lexer": "ipython3",
   "version": "3.8.10"
  }
 },
 "nbformat": 4,
 "nbformat_minor": 5
}
