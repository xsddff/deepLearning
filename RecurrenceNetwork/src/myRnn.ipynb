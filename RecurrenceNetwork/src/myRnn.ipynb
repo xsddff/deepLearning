{
 "cells": [
  {
   "cell_type": "code",
   "execution_count": 6,
   "id": "3c0a6fbe-fa72-4ead-a47d-ea78a1a25101",
   "metadata": {
    "tags": []
   },
   "outputs": [],
   "source": [
    "from turtle import color\n",
    "import torch\n",
    "import torch.nn as nn\n",
    "import torch.nn.functional as F\n",
    "import matplotlib.pyplot as plt\n",
    "import numpy as np\n",
    "import random\n",
    "from data import seqDataLoader\n",
    "from data import Vocab,read_dataset,tokenize\n",
    "from models import RnnModelScratch\n",
    "from models import GRUModelScratch\n",
    "from models import lstmModelScratch\n",
    "from tqdm import tqdm\n",
    "import re\n"
   ]
  },
  {
   "cell_type": "code",
   "execution_count": 7,
   "id": "267aa453-b7da-4bc2-b259-a05f41c9b20b",
   "metadata": {
    "tags": []
   },
   "outputs": [],
   "source": [
    "def create_vocabulary(file):\n",
    "    # 加载数据集 和 词表\n",
    "    lines = read_dataset(file)\n",
    "    tokens = tokenize(lines)\n",
    "    corpus = [tk for token in tokens for tk in token]\n",
    "    voc = Vocab(corpus)\n",
    "    return voc,corpus\n",
    "\n",
    "def train(net,corpus,epoches,device='cpu',lr=1):\n",
    "\n",
    "  dataLoader = seqDataLoader(corpus,batch_size=16,num_steps=5,is_random=True)\n",
    "\n",
    "  loss = nn.CrossEntropyLoss()\n",
    "  if isinstance(net,nn.Module):\n",
    "    opt = torch.optim.SGD(net.parameters(),lr=lr)\n",
    "  else:\n",
    "    opt = torch.optim.SGD(net.params,lr=lr)\n",
    "  state = None\n",
    "\n",
    "  total_losses = []\n",
    "  with tqdm(total = epoches,desc='模型训练中') as pbar:\n",
    "    for epoch in range(epoches):\n",
    "      losses = train_epoch(net,state,dataLoader,loss,opt,is_random=True,device=device)\n",
    "      total_losses.append(losses)\n",
    "      if (epoch+1) % 1 == 0:\n",
    "        pbar.update(1)\n",
    "        \n",
    "  return total_losses\n",
    "\n",
    "def train_epoch(model,state,train_iter,loss,opt,is_random=False,device='cpu'):\n",
    "  losses = 0\n",
    "  total = 0\n",
    "  for X,Y in train_iter:   # 有个 batches 数量的 序列，并且序列式拥有顺序的\n",
    "    if state is None or is_random:\n",
    "      state = model.begin_state(X.shape[0],device)\n",
    "    else:\n",
    "      for s in state:   \n",
    "        s.detach_()     # 对每个batch执行时间步截断\n",
    "  \n",
    "    X = X.to(device)\n",
    "    y_pre,state = model(X,state)\n",
    "    y = F.one_hot(Y.T.reshape(-1),num_classes=y_pre.shape[-1]).float().to(device)\n",
    "    l = loss(y_pre,y).mean()\n",
    "    opt.zero_grad()\n",
    "    l.backward()\n",
    "    clip_grad(model,1)   # 计算梯度并梯度裁切\n",
    "    opt.step()\n",
    "    losses += l.item() * X.size(0)\n",
    "    total += X.size(0)\n",
    "  return losses/total\n",
    "\n",
    "def clip_grad(model,theta):\n",
    "  if isinstance(model,nn.Module):\n",
    "    params = [p for p in model.parameters() if p.requires_grad]   # model.parameters()  返回的是参数迭代对象，每个迭代对象是各层网络的参数矩阵\n",
    "  else:\n",
    "    params: list = model.params\n",
    "\n",
    "  tmp = sum(torch.sum(p ** 2) for p in params)\n",
    "  norm = torch.sqrt(tmp)\n",
    "\n",
    "  if norm > theta:\n",
    "    for p in params:\n",
    "      if p.grad is not None:    # 这里模型参数出现None的原因是 在定义torch.nn模块的时候，里面有torch_select模块，有的模型参数没用到\n",
    "        p.grad = p.grad * theta / norm\n",
    "  \n",
    "  # torch.nn.utils.clip_grad.clip_grad_norm_(model.parameters(),theta)"
   ]
  },
  {
   "cell_type": "code",
   "execution_count": 8,
   "id": "20cbbcaa-056d-44d7-9dbc-aa9c0286ba17",
   "metadata": {
    "tags": []
   },
   "outputs": [],
   "source": [
    "device = 'cuda:0'\n",
    "voc,corpus = create_vocabulary('../dataset/time_machine.txt')\n",
    "corpus = voc[corpus]"
   ]
  },
  {
   "cell_type": "markdown",
   "id": "7750b6d3-1419-4c82-8cde-1f3235ec5d47",
   "metadata": {},
   "source": [
    "# 自定义神经网络模块"
   ]
  },
  {
   "cell_type": "code",
   "execution_count": 10,
   "id": "67943ecd-3460-442c-97a8-b7df811448b5",
   "metadata": {
    "tags": []
   },
   "outputs": [
    {
     "name": "stderr",
     "output_type": "stream",
     "text": [
      "模型训练中:   2%|█▏                                                          | 2/100 [00:05<04:34,  2.80s/it]\n"
     ]
    },
    {
     "ename": "KeyboardInterrupt",
     "evalue": "",
     "output_type": "error",
     "traceback": [
      "\u001b[0;31m---------------------------------------------------------------------------\u001b[0m",
      "\u001b[0;31mKeyboardInterrupt\u001b[0m                         Traceback (most recent call last)",
      "Cell \u001b[0;32mIn[10], line 3\u001b[0m\n\u001b[1;32m      1\u001b[0m \u001b[38;5;66;03m# 加载模型\u001b[39;00m\n\u001b[1;32m      2\u001b[0m net_rnn \u001b[38;5;241m=\u001b[39m RnnModelScratch(voc_size\u001b[38;5;241m=\u001b[39m\u001b[38;5;28mlen\u001b[39m(voc),num_hiddens\u001b[38;5;241m=\u001b[39m\u001b[38;5;241m256\u001b[39m,device\u001b[38;5;241m=\u001b[39mdevice)\n\u001b[0;32m----> 3\u001b[0m total_losses_rnn \u001b[38;5;241m=\u001b[39m \u001b[43mtrain\u001b[49m\u001b[43m(\u001b[49m\u001b[43mnet_rnn\u001b[49m\u001b[43m,\u001b[49m\u001b[43mcorpus\u001b[49m\u001b[43m,\u001b[49m\u001b[38;5;241;43m100\u001b[39;49m\u001b[43m,\u001b[49m\u001b[43mdevice\u001b[49m\u001b[43m,\u001b[49m\u001b[43mlr\u001b[49m\u001b[38;5;241;43m=\u001b[39;49m\u001b[38;5;241;43m1\u001b[39;49m\u001b[43m)\u001b[49m\n",
      "Cell \u001b[0;32mIn[7], line 23\u001b[0m, in \u001b[0;36mtrain\u001b[0;34m(net, corpus, epoches, device, lr)\u001b[0m\n\u001b[1;32m     21\u001b[0m \u001b[38;5;28;01mwith\u001b[39;00m tqdm(total \u001b[38;5;241m=\u001b[39m epoches,desc\u001b[38;5;241m=\u001b[39m\u001b[38;5;124m'\u001b[39m\u001b[38;5;124m模型训练中\u001b[39m\u001b[38;5;124m'\u001b[39m) \u001b[38;5;28;01mas\u001b[39;00m pbar:\n\u001b[1;32m     22\u001b[0m   \u001b[38;5;28;01mfor\u001b[39;00m epoch \u001b[38;5;129;01min\u001b[39;00m \u001b[38;5;28mrange\u001b[39m(epoches):\n\u001b[0;32m---> 23\u001b[0m     losses \u001b[38;5;241m=\u001b[39m \u001b[43mtrain_epoch\u001b[49m\u001b[43m(\u001b[49m\u001b[43mnet\u001b[49m\u001b[43m,\u001b[49m\u001b[43mstate\u001b[49m\u001b[43m,\u001b[49m\u001b[43mdataLoader\u001b[49m\u001b[43m,\u001b[49m\u001b[43mloss\u001b[49m\u001b[43m,\u001b[49m\u001b[43mopt\u001b[49m\u001b[43m,\u001b[49m\u001b[43mis_random\u001b[49m\u001b[38;5;241;43m=\u001b[39;49m\u001b[38;5;28;43;01mTrue\u001b[39;49;00m\u001b[43m,\u001b[49m\u001b[43mdevice\u001b[49m\u001b[38;5;241;43m=\u001b[39;49m\u001b[43mdevice\u001b[49m\u001b[43m)\u001b[49m\n\u001b[1;32m     24\u001b[0m     total_losses\u001b[38;5;241m.\u001b[39mappend(losses)\n\u001b[1;32m     25\u001b[0m     \u001b[38;5;28;01mif\u001b[39;00m (epoch\u001b[38;5;241m+\u001b[39m\u001b[38;5;241m1\u001b[39m) \u001b[38;5;241m%\u001b[39m \u001b[38;5;241m1\u001b[39m \u001b[38;5;241m==\u001b[39m \u001b[38;5;241m0\u001b[39m:\n",
      "Cell \u001b[0;32mIn[7], line 45\u001b[0m, in \u001b[0;36mtrain_epoch\u001b[0;34m(model, state, train_iter, loss, opt, is_random, device)\u001b[0m\n\u001b[1;32m     43\u001b[0m l \u001b[38;5;241m=\u001b[39m loss(y_pre,y)\u001b[38;5;241m.\u001b[39mmean()\n\u001b[1;32m     44\u001b[0m opt\u001b[38;5;241m.\u001b[39mzero_grad()\n\u001b[0;32m---> 45\u001b[0m \u001b[43ml\u001b[49m\u001b[38;5;241;43m.\u001b[39;49m\u001b[43mbackward\u001b[49m\u001b[43m(\u001b[49m\u001b[43m)\u001b[49m\n\u001b[1;32m     46\u001b[0m clip_grad(model,\u001b[38;5;241m1\u001b[39m)   \u001b[38;5;66;03m# 计算梯度并梯度裁切\u001b[39;00m\n\u001b[1;32m     47\u001b[0m opt\u001b[38;5;241m.\u001b[39mstep()\n",
      "File \u001b[0;32m~/miniconda3/lib/python3.8/site-packages/torch/_tensor.py:487\u001b[0m, in \u001b[0;36mTensor.backward\u001b[0;34m(self, gradient, retain_graph, create_graph, inputs)\u001b[0m\n\u001b[1;32m    477\u001b[0m \u001b[38;5;28;01mif\u001b[39;00m has_torch_function_unary(\u001b[38;5;28mself\u001b[39m):\n\u001b[1;32m    478\u001b[0m     \u001b[38;5;28;01mreturn\u001b[39;00m handle_torch_function(\n\u001b[1;32m    479\u001b[0m         Tensor\u001b[38;5;241m.\u001b[39mbackward,\n\u001b[1;32m    480\u001b[0m         (\u001b[38;5;28mself\u001b[39m,),\n\u001b[0;32m   (...)\u001b[0m\n\u001b[1;32m    485\u001b[0m         inputs\u001b[38;5;241m=\u001b[39minputs,\n\u001b[1;32m    486\u001b[0m     )\n\u001b[0;32m--> 487\u001b[0m \u001b[43mtorch\u001b[49m\u001b[38;5;241;43m.\u001b[39;49m\u001b[43mautograd\u001b[49m\u001b[38;5;241;43m.\u001b[39;49m\u001b[43mbackward\u001b[49m\u001b[43m(\u001b[49m\n\u001b[1;32m    488\u001b[0m \u001b[43m    \u001b[49m\u001b[38;5;28;43mself\u001b[39;49m\u001b[43m,\u001b[49m\u001b[43m \u001b[49m\u001b[43mgradient\u001b[49m\u001b[43m,\u001b[49m\u001b[43m \u001b[49m\u001b[43mretain_graph\u001b[49m\u001b[43m,\u001b[49m\u001b[43m \u001b[49m\u001b[43mcreate_graph\u001b[49m\u001b[43m,\u001b[49m\u001b[43m \u001b[49m\u001b[43minputs\u001b[49m\u001b[38;5;241;43m=\u001b[39;49m\u001b[43minputs\u001b[49m\n\u001b[1;32m    489\u001b[0m \u001b[43m\u001b[49m\u001b[43m)\u001b[49m\n",
      "File \u001b[0;32m~/miniconda3/lib/python3.8/site-packages/torch/autograd/__init__.py:200\u001b[0m, in \u001b[0;36mbackward\u001b[0;34m(tensors, grad_tensors, retain_graph, create_graph, grad_variables, inputs)\u001b[0m\n\u001b[1;32m    195\u001b[0m     retain_graph \u001b[38;5;241m=\u001b[39m create_graph\n\u001b[1;32m    197\u001b[0m \u001b[38;5;66;03m# The reason we repeat same the comment below is that\u001b[39;00m\n\u001b[1;32m    198\u001b[0m \u001b[38;5;66;03m# some Python versions print out the first line of a multi-line function\u001b[39;00m\n\u001b[1;32m    199\u001b[0m \u001b[38;5;66;03m# calls in the traceback and some print out the last line\u001b[39;00m\n\u001b[0;32m--> 200\u001b[0m \u001b[43mVariable\u001b[49m\u001b[38;5;241;43m.\u001b[39;49m\u001b[43m_execution_engine\u001b[49m\u001b[38;5;241;43m.\u001b[39;49m\u001b[43mrun_backward\u001b[49m\u001b[43m(\u001b[49m\u001b[43m  \u001b[49m\u001b[38;5;66;43;03m# Calls into the C++ engine to run the backward pass\u001b[39;49;00m\n\u001b[1;32m    201\u001b[0m \u001b[43m    \u001b[49m\u001b[43mtensors\u001b[49m\u001b[43m,\u001b[49m\u001b[43m \u001b[49m\u001b[43mgrad_tensors_\u001b[49m\u001b[43m,\u001b[49m\u001b[43m \u001b[49m\u001b[43mretain_graph\u001b[49m\u001b[43m,\u001b[49m\u001b[43m \u001b[49m\u001b[43mcreate_graph\u001b[49m\u001b[43m,\u001b[49m\u001b[43m \u001b[49m\u001b[43minputs\u001b[49m\u001b[43m,\u001b[49m\n\u001b[1;32m    202\u001b[0m \u001b[43m    \u001b[49m\u001b[43mallow_unreachable\u001b[49m\u001b[38;5;241;43m=\u001b[39;49m\u001b[38;5;28;43;01mTrue\u001b[39;49;00m\u001b[43m,\u001b[49m\u001b[43m \u001b[49m\u001b[43maccumulate_grad\u001b[49m\u001b[38;5;241;43m=\u001b[39;49m\u001b[38;5;28;43;01mTrue\u001b[39;49;00m\u001b[43m)\u001b[49m\n",
      "\u001b[0;31mKeyboardInterrupt\u001b[0m: "
     ]
    }
   ],
   "source": [
    "# 加载模型\n",
    "net_rnn = RnnModelScratch(voc_size=len(voc),num_hiddens=256,device=device)\n",
    "total_losses_rnn = train(net_rnn,corpus,100,device,lr=1)"
   ]
  },
  {
   "cell_type": "code",
   "execution_count": 10,
   "id": "c163caf1-a0b0-4d14-886e-e75bd3a4f03c",
   "metadata": {
    "tags": []
   },
   "outputs": [
    {
     "name": "stderr",
     "output_type": "stream",
     "text": [
      "模型训练中: 100%|██████████████████████████████████████████████████████████| 100/100 [06:44<00:00,  4.05s/it]\n"
     ]
    }
   ],
   "source": [
    "net_gru = GRUModelScratch(voc_size=len(voc),num_hiddens=256,device=device)\n",
    "total_losses_gru = train(net_gru,corpus,100,device,lr=1)"
   ]
  },
  {
   "cell_type": "code",
   "execution_count": 11,
   "id": "a22c8b21-99a9-42a6-be18-eac21cade180",
   "metadata": {
    "tags": []
   },
   "outputs": [
    {
     "name": "stderr",
     "output_type": "stream",
     "text": [
      "模型训练中: 100%|██████████████████████████████████████████████████████████| 300/300 [23:39<00:00,  4.73s/it]\n"
     ]
    }
   ],
   "source": [
    "net_lstm = lstmModelScratch(voc_size=len(voc),num_hiddens=256,device=device)\n",
    "total_losses_lstm = train(net_lstm,corpus,300,device,lr=1)"
   ]
  },
  {
   "cell_type": "code",
   "execution_count": 12,
   "id": "7b854dfb-df77-4759-98fb-2c1a9d9201c6",
   "metadata": {
    "tags": []
   },
   "outputs": [
    {
     "data": {
      "image/png": "[encoded data removed]",
      "text/plain": [
       "<Figure size 640x480 with 1 Axes>"
      ]
     },
     "metadata": {},
     "output_type": "display_data"
    }
   ],
   "source": [
    "plt.plot(range(len(total_losses_rnn)),total_losses_rnn,color='blue',label='rnn')\n",
    "plt.plot(range(len(total_losses_gru)),total_losses_gru,color='red',label='gru')\n",
    "plt.plot(range(len(total_losses_lstm)),total_losses_lstm,color='green',label='lstm')\n",
    "plt.legend()\n",
    "plt.show()"
   ]
  },
  {
   "cell_type": "code",
   "execution_count": 15,
   "id": "b8c4e930-0d41-4486-8214-7e94b5f569f1",
   "metadata": {
    "tags": []
   },
   "outputs": [],
   "source": [
    "def predict(corpus,prex_nums,model,time_step,device):\n",
    "    outputs = [ corpus[0],corpus[1],corpus[2] ]\n",
    "    def get_data():\n",
    "        return torch.tensor(outputs[-time_step:]).reshape(1,time_step).to(device)\n",
    "    state = model.begin_state(1,device)\n",
    "    for i in corpus[time_step:]:\n",
    "        _,state = model(get_data(),state)\n",
    "        outputs.append(i)\n",
    "    for i in range(prex_nums):\n",
    "        y,state = model(get_data(),state)\n",
    "        y = torch.argmax(y,dim=-1)\n",
    "        outputs += [y_.item() for y_ in y]\n",
    "    return outputs,state"
   ]
  },
  {
   "cell_type": "code",
   "execution_count": 14,
   "id": "134365ed-3485-4217-9afd-72c1464297b8",
   "metadata": {
    "tags": []
   },
   "outputs": [
    {
     "name": "stdout",
     "output_type": "stream",
     "text": [
      "[4, 148, 1, 1010, 261, 7, 36, 95, 36, 2, 25, 34, 1578, 1166, 4, 1166, 4, 1582, 1, 113, 1, 19, 9, 1163, 75, 1, 7, 1, 393, 9, 180, 2, 22, 4, 15, 2, 9, 130]\n",
      "i took the starting lever in one hand one and not by h contents i contents i introduction the away the time that re traveller the in the laws that psychologist and or i with and that us\n"
     ]
    }
   ],
   "source": [
    "# rnn_predict\n",
    "with torch.no_grad():\n",
    "    str = ' I took the starting lever in one hand'\n",
    "    str = re.sub('[^A-Za-z0-9]',' ',str).lower().split()\n",
    "    corpus = voc[str]\n",
    "    predict_str,state = predict(corpus,10,net_rnn,3,device)\n",
    "    print(predict_str)\n",
    "    predict_str = ' '.join(voc(predict_str))\n",
    "    print(predict_str)"
   ]
  },
  {
   "cell_type": "code",
   "execution_count": 15,
   "id": "c1976365-4689-4252-acd0-f2c3ef75a039",
   "metadata": {
    "tags": []
   },
   "outputs": [
    {
     "name": "stdout",
     "output_type": "stream",
     "text": [
      "[4, 148, 1, 1010, 261, 7, 36, 95, 4, 15, 2, 31, 179, 360, 32, 5, 1586, 1, 314, 7, 314, 285, 43, 69, 29, 1, 3, 17, 16, 16, 285, 43, 43, 69, 15, 2444, 18, 98]\n",
      "i took the starting lever in one hand i with and his almost pale there a v the sudden in sudden dimensions no if is the of for at at dimensions no no if with october you may\n"
     ]
    }
   ],
   "source": [
    "# gru_predict\n",
    "with torch.no_grad():\n",
    "    str = ' I took the starting lever in one hand'\n",
    "    str = re.sub('[^A-Za-z0-9]',' ',str).lower().split()\n",
    "    corpus = voc[str]\n",
    "    predict_str,state = predict(corpus,10,net_gru,3,device)\n",
    "    print(predict_str)\n",
    "    predict_str = ' '.join(voc(predict_str))\n",
    "    print(predict_str)"
   ]
  },
  {
   "cell_type": "code",
   "execution_count": 16,
   "id": "f2a6506d-e115-4342-99b6-a88337f923fb",
   "metadata": {
    "tags": []
   },
   "outputs": [
    {
     "name": "stdout",
     "output_type": "stream",
     "text": [
      "[4, 148, 1, 1010, 261, 7, 36, 95, 1, 653, 3, 19, 3, 1, 46, 557, 19, 7, 1161, 16, 1, 7, 1, 267, 268, 267, 234, 1587, 107, 2, 1, 87, 3, 87, 3, 1, 252, 19]\n",
      "i took the starting lever in one hand the start of time of the machine anyone time in anywhere at the in the united age united states vi will and the other of other of the palace time\n"
     ]
    }
   ],
   "source": [
    "# lstm_predict\n",
    "with torch.no_grad():\n",
    "    str = ' I took the starting lever in one hand'\n",
    "    str = re.sub('[^A-Za-z0-9]',' ',str).lower().split()\n",
    "    corpus = voc[str]\n",
    "    predict_str,state = predict(corpus,10,net_lstm,3,device)\n",
    "    print(predict_str)\n",
    "    predict_str = ' '.join(voc(predict_str))\n",
    "    print(predict_str)"
   ]
  },
  {
   "cell_type": "markdown",
   "id": "4003b8c4-503e-4aff-bb2c-1801611e705f",
   "metadata": {},
   "source": [
    "# torch.nn 训练模块"
   ]
  },
  {
   "cell_type": "code",
   "execution_count": 17,
   "id": "feeeba62-750f-4227-91bd-b1296e995237",
   "metadata": {
    "tags": []
   },
   "outputs": [],
   "source": [
    "# 这里很经典，如果要将rnn和linear结合起来输出就不能直接用 nn.Sequential ,因为nn.Sequential接受不到模型隐藏层的中间结果\n",
    "# GRU 期望输入 (time_step,batch_size,features) \n",
    "# MLP 期望输出 (batch_size,features)\n",
    "def error_test():\n",
    "    '''\n",
    "    \n",
    "    这个是nn.Moudule调用rnn模块的错误示例  -->  本质原因是 nn.Sequential 拿不到隐藏层中间的向量从而进行适配操作\n",
    "    \n",
    "    '''\n",
    "    gru_layyer = nn.GRU(1,256)\n",
    "    rnn_layyer = nn.RNN(1,256)\n",
    "    model_gru = nn.Sequential(\n",
    "        gru_layyer,\n",
    "        nn.Linear(256,len(voc)),\n",
    "        nn.ReLU()\n",
    "    ).to(device)\n",
    "    model_rnn = nn.Sequential(\n",
    "        rnn_layyer,\n",
    "        nn.Linear(256,len(voc)),\n",
    "        nn.ReLU()\n",
    "    ).to(device)"
   ]
  },
  {
   "cell_type": "code",
   "execution_count": 7,
   "id": "c2ea98db-aaf5-4f48-882b-5768e2b967d5",
   "metadata": {},
   "outputs": [],
   "source": [
    "class rnn_torch(nn.Module):\n",
    "  def __init__(self, voc_size,hidden_size,select_model,num_layers=1,num_directions=1) -> None:\n",
    "    '''\n",
    "    select_model:\n",
    "      1:  rnn\n",
    "      2:  gru\n",
    "      3:  lstm\n",
    "    '''\n",
    "    super().__init__()\n",
    "    self.voc_size = voc_size\n",
    "    self.hidden_size = hidden_size\n",
    "    self.selece_model = select_model\n",
    "    self.num_layers = num_layers\n",
    "    self.num_directions = num_directions\n",
    "    self.rnn = nn.RNN(voc_size,hidden_size)   # (time_step,batch_size,voc_size)\n",
    "    self.gru = nn.GRU(voc_size,hidden_size)\n",
    "    self.lstm = nn.LSTM(voc_size,hidden_size)\n",
    "    self.dense = nn.Linear(hidden_size,voc_size)\n",
    "  \n",
    "  def forward(self,X,state):\n",
    "    '''\n",
    "    x -> (batch_size,time_step,voc_size)\n",
    "    '''\n",
    "    X = X.long()\n",
    "    X = F.one_hot(X.T,num_classes=self.voc_size).float()\n",
    "    if self.selece_model == 1:\n",
    "      X,state = self.rnn(X,state)\n",
    "    elif self.selece_model == 2:\n",
    "      X,state = self.gru(X,state)\n",
    "    elif self.selece_model == 3:\n",
    "      X,state = self.lstm(X,state)\n",
    "    X = X.reshape(-1,self.hidden_size)\n",
    "    Y = torch.relu(self.dense(X))\n",
    "    return Y,state\n",
    "  def begin_state(self,batch_size,device='cpu'):\n",
    "    if self.selece_model == 1 or self.selece_model == 2:\n",
    "      return torch.zeros((self.num_directions*self.num_layers,batch_size,self.hidden_size),device=device).float()\n",
    "    elif self.selece_model == 3:\n",
    "      return (torch.zeros((self.num_directions*self.num_layers,batch_size,self.hidden_size),device=device).float(),\n",
    "              torch.zeros((self.num_directions*self.num_layers,batch_size,self.hidden_size),device=device).float())\n"
   ]
  },
  {
   "cell_type": "code",
   "execution_count": 8,
   "id": "0cc9131a-3da7-49a3-bfd5-736e8489a043",
   "metadata": {
    "tags": []
   },
   "outputs": [
    {
     "name": "stderr",
     "output_type": "stream",
     "text": [
      "模型训练中: 100%|██████████████████████████████████████████████████████████| 100/100 [02:46<00:00,  1.66s/it]\n"
     ]
    }
   ],
   "source": [
    "# rnn\n",
    "torch_net = rnn_torch(voc_size=len(voc),hidden_size=256,select_model=1).to(device)\n",
    "total_losses_torch = train(torch_net,corpus,100,device,lr=1)"
   ]
  },
  {
   "cell_type": "code",
   "execution_count": 9,
   "id": "a4c5ff96-25e6-40c6-ad3c-fd0bb2f9142b",
   "metadata": {
    "tags": []
   },
   "outputs": [
    {
     "name": "stderr",
     "output_type": "stream",
     "text": [
      "模型训练中: 100%|██████████████████████████████████████████████████████████| 100/100 [03:10<00:00,  1.90s/it]\n"
     ]
    }
   ],
   "source": [
    "# gru\n",
    "torch_net_gru = rnn_torch(voc_size=len(voc),hidden_size=256,select_model=2).to(device)\n",
    "total_losses_torch_gru = train(torch_net_gru,corpus,100,device,lr=1)"
   ]
  },
  {
   "cell_type": "code",
   "execution_count": 10,
   "id": "abc0283a-29a5-46b0-9cd0-847aff7d209d",
   "metadata": {},
   "outputs": [
    {
     "name": "stderr",
     "output_type": "stream",
     "text": [
      "模型训练中: 100%|██████████████████████████████████████████████████████████| 300/300 [10:00<00:00,  2.00s/it]\n"
     ]
    }
   ],
   "source": [
    "# lstm\n",
    "torch_net_lstm = rnn_torch(voc_size=len(voc),hidden_size=256,select_model=3).to(device)\n",
    "total_losses_torch_lstm = train(torch_net_lstm,corpus,300,device,lr=1)"
   ]
  },
  {
   "cell_type": "code",
   "execution_count": 13,
   "id": "97e41633-4e4a-42b7-893b-fcb8e81810a4",
   "metadata": {
    "tags": []
   },
   "outputs": [
    {
     "data": {
      "image/png": "[encoded data removed]",
      "text/plain": [
       "<Figure size 640x480 with 1 Axes>"
      ]
     },
     "metadata": {},
     "output_type": "display_data"
    }
   ],
   "source": [
    "plt.plot(range(len(total_losses_torch)),total_losses_torch,color='blue',label='torch_rnn')\n",
    "plt.plot(range(len(total_losses_torch_gru)),total_losses_torch_gru,color='red',label='torch_gru')\n",
    "plt.plot(range(len(total_losses_torch_lstm)),total_losses_torch_lstm,color='green',label='torch_lstm')\n",
    "plt.legend()\n",
    "plt.show()"
   ]
  },
  {
   "cell_type": "code",
   "execution_count": 16,
   "id": "d1447c11-371f-4841-8ea3-04ea29aa3ca5",
   "metadata": {
    "tags": []
   },
   "outputs": [
    {
     "name": "stdout",
     "output_type": "stream",
     "text": [
      "[4, 148, 1, 1010, 261, 7, 36, 95, 1, 1, 17, 1, 46, 3, 19, 9, 1, 46, 17, 19, 1584, 1, 46, 1, 19, 1584, 19, 46, 1, 1, 21, 19, 19, 3, 17, 1, 1, 1]\n",
      "i took the starting lever in one hand the the for the machine of time that the machine for time iii the machine the time iii time machine the the this time time of for the the the\n"
     ]
    }
   ],
   "source": [
    "# rnn_predict\n",
    "with torch.no_grad():\n",
    "    str = ' I took the starting lever in one hand'\n",
    "    str = re.sub('[^A-Za-z0-9]',' ',str).lower().split()\n",
    "    corpus = voc[str]\n",
    "    predict_str,state = predict(corpus,10,torch_net,3,device)\n",
    "    print(predict_str)\n",
    "    predict_str = ' '.join(voc(predict_str))\n",
    "    print(predict_str)"
   ]
  },
  {
   "cell_type": "code",
   "execution_count": 17,
   "id": "8293a4c1-632d-4c5f-902e-a7fa2ac1e1ad",
   "metadata": {
    "tags": []
   },
   "outputs": [
    {
     "name": "stdout",
     "output_type": "stream",
     "text": [
      "[4, 148, 1, 1010, 261, 7, 36, 95, 1, 5, 1, 118, 2, 2, 2, 143, 143, 87, 649, 649, 649, 3, 3, 1, 557, 557, 118, 1161, 7, 7, 7, 1, 649, 649, 6, 3, 3, 1]\n",
      "i took the starting lever in one hand the a the world and and and most most other parts parts parts of of the anyone anyone world anywhere in in in the parts parts to of of the\n"
     ]
    }
   ],
   "source": [
    "# gru_predict\n",
    "with torch.no_grad():\n",
    "    str = ' I took the starting lever in one hand'\n",
    "    str = re.sub('[^A-Za-z0-9]',' ',str).lower().split()\n",
    "    corpus = voc[str]\n",
    "    predict_str,state = predict(corpus,10,torch_net_gru,3,device)\n",
    "    print(predict_str)\n",
    "    predict_str = ' '.join(voc(predict_str))\n",
    "    print(predict_str)"
   ]
  },
  {
   "cell_type": "code",
   "execution_count": 18,
   "id": "661798b9-7495-4e42-99c1-8d0f9d233c01",
   "metadata": {
    "tags": []
   },
   "outputs": [
    {
     "name": "stdout",
     "output_type": "stream",
     "text": [
      "[4, 148, 1, 1010, 261, 7, 36, 95, 1, 1, 1, 1, 1, 268, 268, 19, 1584, 1, 75, 1578, 19, 29, 1578, 29, 1578, 1578, 1579, 1579, 1579, 1579, 394, 394, 2443, 651, 1582, 1578, 1578, 1578]\n",
      "i took the starting lever in one hand the the the the the age age time iii the traveller h time is h is h h g g g g wells wells release date introduction h h h\n"
     ]
    }
   ],
   "source": [
    "# lstm_predict\n",
    "with torch.no_grad():\n",
    "    str = ' I took the starting lever in one hand'\n",
    "    str = re.sub('[^A-Za-z0-9]',' ',str).lower().split()\n",
    "    corpus = voc[str]\n",
    "    predict_str,state = predict(corpus,10,torch_net_lstm,3,device)\n",
    "    print(predict_str)\n",
    "    predict_str = ' '.join(voc(predict_str))\n",
    "    print(predict_str)"
   ]
  },
  {
   "cell_type": "code",
   "execution_count": null,
   "id": "8bdb7b08-c01b-4422-9089-d6dfcd5c92a1",
   "metadata": {},
   "outputs": [],
   "source": []
  }
 ],
 "metadata": {
  "kernelspec": {
   "display_name": "Python 3 (ipykernel)",
   "language": "python",
   "name": "python3"
  },
  "language_info": {
   "codemirror_mode": {
    "name": "ipython",
    "version": 3
   },
   "file_extension": ".py",
   "mimetype": "text/x-python",
   "name": "python",
   "nbconvert_exporter": "python",
   "pygments_lexer": "ipython3",
   "version": "3.8.10"
  }
 },
 "nbformat": 4,
 "nbformat_minor": 5
}
