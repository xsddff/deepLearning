{
 "cells": [
  {
   "cell_type": "code",
   "execution_count": 3,
   "id": "70ec57e1-9e01-4495-bae2-3f4f88cfee4e",
   "metadata": {
    "tags": []
   },
   "outputs": [],
   "source": [
    "from os import device_encoding\n",
    "from data import mntDataLoader\n",
    "import torch.nn as nn\n",
    "import torch\n",
    "import torch.nn.functional as F\n",
    "import matplotlib.pyplot as plt\n",
    "import d2l.torch as d2l\n",
    "from tqdm import tqdm\n"
   ]
  },
  {
   "cell_type": "code",
   "execution_count": 4,
   "id": "f6b04fbe-44e9-4f29-b8ce-bf03207363db",
   "metadata": {
    "tags": []
   },
   "outputs": [],
   "source": [
    "class Encoder(nn.Module):\n",
    "  def __init__(self,voc_size,features,hiddens,num_layers=3,num_directions=1,dropout = 0.5) -> None:\n",
    "    super().__init__()\n",
    "    self.hiddens = hiddens\n",
    "    self.num_layers = num_layers\n",
    "    self.num_directions = num_directions\n",
    "    self.embedding = nn.Embedding(voc_size,features)   # 这里的voc_size不是输入向量的维度，而是会出现多少个不同的索引将会被映射\n",
    "    self.rnn = nn.GRU(features,hiddens,num_layers)\n",
    "    self.dropout = nn.Dropout(dropout)\n",
    "    self.normLayer = nn.LayerNorm(hiddens)\n",
    "  \n",
    "  def forward(self,x):\n",
    "    '''\n",
    "    x: (batch_size,nums_step,voc_size)\n",
    "    '''\n",
    "    x = self.embedding(x)\n",
    "    x = x.permute(1,0,2)\n",
    "    output,state = self.rnn(x)\n",
    "    state = self.normLayer(self.dropout(state))\n",
    "    return output,state\n",
    "\n",
    "class Decoder(nn.Module):\n",
    "  def __init__(self, voc_size,features,hiddens,num_layers=3,num_directions=1,dropout = 0.5) -> None:\n",
    "    super().__init__()\n",
    "    self.embedding = nn.Embedding(voc_size,features)\n",
    "    self.rnn = nn.GRU(features+hiddens,hiddens,num_layers)\n",
    "    self.dense = nn.Linear(hiddens,voc_size)\n",
    "    self.dropout = nn.Dropout(dropout)\n",
    "    self.normLayer = nn.LayerNorm(hiddens)\n",
    "  \n",
    "  def init_state(self,enc_output):\n",
    "    return enc_output[1]\n",
    "  def forward(self,x,state,context_and_x=None):\n",
    "    x = self.embedding(x)\n",
    "    x = x.permute(1,0,2)   # (time_step,batch_size,features)\n",
    "    if context_and_x is None:\n",
    "      context = state[-1].repeat((x.size(0),1,1)) # state(1,batch_size,hidden_size)  取最后一层隐藏状态   \n",
    "      context_and_x = torch.cat((x,context),-1)   # 广播，让每个时间步有相同的编码器隐藏状态\n",
    "    output,state = self.rnn(context_and_x,state)  # (time_step,batch_size,hidden_size)\n",
    "    output = self.normLayer(x+self.dropout(output))\n",
    "    output = self.dense(output).permute(1,0,2)\n",
    "    return output,state,context_and_x\n",
    "\n",
    "class EncoderDecoder(nn.Module):\n",
    "  def __init__(self, encoder: Encoder,decoder: Decoder) -> None:\n",
    "    super().__init__()\n",
    "    self.encoder = encoder\n",
    "    self.decoder = decoder\n",
    "  def forward(self,src,tar):\n",
    "    '''\n",
    "    x: (batch_size,num_step)\n",
    "    '''\n",
    "    dec_output = self.encoder(src)\n",
    "    state = self.decoder.init_state(dec_output)\n",
    "    output,state,_ = self.decoder(tar,state)\n",
    "    return output,state\n"
   ]
  },
  {
   "cell_type": "code",
   "execution_count": 5,
   "id": "fc2896a0-877a-440f-ad7d-a88a899805fc",
   "metadata": {
    "tags": []
   },
   "outputs": [],
   "source": [
    "class MaskedSoftmaxCELoss(nn.CrossEntropyLoss):\n",
    "  def __init__(self, device) -> None:\n",
    "    super().__init__()\n",
    "    self.device = device\n",
    "  \"\"\"带遮蔽的softmax交叉熵损失函数\"\"\"\n",
    "  # pred的形状：(batch_size,num_steps,vocab_size)\n",
    "  # label的形状：(batch_size,num_steps)\n",
    "  # valid_len的形状：(batch_size,)\n",
    "  def forward(self, pred, label, valid_len):\n",
    "    weights = torch.zeros_like(label,device=self.device)\n",
    "    weights = self.sequence_mask(weights, valid_len,1)\n",
    "    self.reduction='none'\n",
    "    unweighted_loss = super(MaskedSoftmaxCELoss, self).forward(\n",
    "        pred.permute(0, 2, 1), label)\n",
    "    weighted_loss = (unweighted_loss * weights).mean(dim=1)\n",
    "    return weighted_loss\n",
    "  def sequence_mask(self,weights, valid_len, val=1):\n",
    "    mask = torch.arange(weights.size(1),device=weights.device)[None,:] < valid_len[:,None]\n",
    "    weights[mask] = val\n",
    "    return weights\n"
   ]
  },
  {
   "cell_type": "code",
   "execution_count": 6,
   "id": "49e48d01-44d9-4f17-b798-2136ca403c91",
   "metadata": {
    "tags": []
   },
   "outputs": [],
   "source": [
    "def train(net,data_iter,lr,num_epoches,tar_voc,device):\n",
    "  def xavier_init_weights(m):\n",
    "    if type(m) == nn.Linear:\n",
    "      nn.init.xavier_normal(m.weight)\n",
    "    elif type(m) == nn.GRU:\n",
    "      for param in m._flat_weights_names:\n",
    "        if 'weight' in param:\n",
    "          nn.init.xavier_normal(m._parameters[param])\n",
    "  \n",
    "  net.apply(xavier_init_weights)\n",
    "  net.train()\n",
    "  net = net.to(device)\n",
    "  loss = MaskedSoftmaxCELoss(device)\n",
    "  opt = torch.optim.Adam(net.parameters(),lr)\n",
    "  loss_list = []\n",
    "  with tqdm(total = num_epoches,desc='模型训练中') as pbar:\n",
    "    for epoch in range(num_epoches):\n",
    "      losses = 0\n",
    "      nums = 0\n",
    "      for (src,src_valid_len,Y,tar_valid_len) in data_iter:\n",
    "        opt.zero_grad()\n",
    "        src = src.to(device)\n",
    "        Y = Y.to(device)\n",
    "        tar_valid_len = tar_valid_len.to(device)\n",
    "        bos = torch.tensor(tar_voc['<bos>'],device=device).repeat((Y.size(0),1))\n",
    "        tar = Y[:,:-1]\n",
    "        tar = torch.cat((bos,tar),dim=-1)\n",
    "        pre,_ = net(src,tar)\n",
    "        l = loss(pre,Y,tar_valid_len).sum()\n",
    "        l.backward()\n",
    "        # if epoch == 200:\n",
    "        #   print('test_point')\n",
    "        d2l.grad_clipping(net,1)\n",
    "        opt.step()\n",
    "        losses += l.item()\n",
    "        nums += src.size(0)\n",
    "      loss_list.append(losses / nums)\n",
    "      if (epoch+1) % 1 == 0:\n",
    "        pbar.update(1)\n",
    "  \n",
    "  return loss_list\n"
   ]
  },
  {
   "cell_type": "code",
   "execution_count": 17,
   "id": "399b22b9-3f4d-4b56-b5db-f6d08d9da999",
   "metadata": {
    "tags": []
   },
   "outputs": [],
   "source": [
    "def main():\n",
    "  file = '../dataset/fra-eng/fra.txt'\n",
    "  device = 'cuda:0'\n",
    "  num_steps = 10\n",
    "  n_samples = 600\n",
    "  batch_size = 64\n",
    "  data_iter,voc_src,voc_tar = mntDataLoader(file,batch_size,n_samples,num_steps,True)\n",
    "  encoder = Encoder(len(voc_src),32,32)\n",
    "  decoder = Decoder(len(voc_tar),32,32)\n",
    "  net = EncoderDecoder(encoder,decoder)\n",
    "  losses = train(net,data_iter,0.004,500,voc_tar,device)\n",
    "\n",
    "  print(f'最终损失值:{losses[-1]}')\n",
    "  plt.plot(range(len(losses)),losses,color='blue')\n",
    "  plt.show()\n",
    "  torch.save(net.state_dict(),'seq2seq.pth')\n"
   ]
  },
  {
   "cell_type": "code",
   "execution_count": 18,
   "id": "ed768e48-0309-429c-adb3-fb0d2c4e075d",
   "metadata": {
    "tags": []
   },
   "outputs": [
    {
     "name": "stderr",
     "output_type": "stream",
     "text": [
      "/tmp/ipykernel_1109010/2520879144.py:8: UserWarning: nn.init.xavier_normal is now deprecated in favor of nn.init.xavier_normal_.\n",
      "  nn.init.xavier_normal(m._parameters[param])\n",
      "/tmp/ipykernel_1109010/2520879144.py:4: UserWarning: nn.init.xavier_normal is now deprecated in favor of nn.init.xavier_normal_.\n",
      "  nn.init.xavier_normal(m.weight)\n",
      "模型训练中: 100%|██████████████████████████████████████████████████████████| 500/500 [00:42<00:00, 11.84it/s]\n"
     ]
    },
    {
     "name": "stdout",
     "output_type": "stream",
     "text": [
      "最终损失值:0.1435637240005214\n"
     ]
    },
    {
     "data": {
      "image/png": "[encoded data removed]",
      "text/plain": [
       "<Figure size 640x480 with 1 Axes>"
      ]
     },
     "metadata": {},
     "output_type": "display_data"
    }
   ],
   "source": [
    "main()"
   ]
  },
  {
   "cell_type": "code",
   "execution_count": 19,
   "id": "1d90a303-78f6-4711-bd37-27dcea74ce28",
   "metadata": {
    "tags": []
   },
   "outputs": [],
   "source": [
    "def predict_seq2seq(net, src_sentence, src_vocab, tgt_vocab, num_steps,\n",
    "                    device, save_attention_weights=False):\n",
    "    \"\"\"序列到序列模型的预测\"\"\"\n",
    "    # 在预测时将net设置为评估模式\n",
    "    net.eval()\n",
    "    src_tokens = src_vocab[src_sentence.lower().split(' ')] + [\n",
    "        src_vocab['<eos>']]\n",
    "    enc_valid_len = torch.tensor([len(src_tokens)], device=device)\n",
    "    src_tokens = d2l.truncate_pad(src_tokens, num_steps, src_vocab['<pad>'])\n",
    "    # 添加批量轴\n",
    "    enc_X = torch.unsqueeze(\n",
    "        torch.tensor(src_tokens, device=device), dim=0)\n",
    "    enc_outputs = net.encoder(enc_X)\n",
    "    dec_state = net.decoder.init_state(enc_outputs)\n",
    "    # 添加批量轴\n",
    "    dec_X = torch.unsqueeze(torch.tensor(\n",
    "        [tgt_vocab['<bos>']], device=device), dim=0)\n",
    "    output_seq, attention_weight_seq = [], []\n",
    "    context = None\n",
    "    for i in range(num_steps):\n",
    "        '''\n",
    "        预测方式一：Y, dec_state,context = net.decoder(dec_X, dec_state,context)\n",
    "        预测方式二：Y, dec_state,context = net.decoder(dec_X, dec_state)  \n",
    "\n",
    "        预测方式二和模型训练的解码逻辑不通，但是准确率更高\n",
    "        初步推测，方式二 dec_state 的隐藏状态实际上已经包含了编码器的时间步信息，介于 GRU 能够记忆的时间步更长远 \n",
    "        '''\n",
    "        Y, dec_state,context = net.decoder(dec_X, dec_state,context)   \n",
    "        # 我们使用具有预测最高可能性的词元，作为解码器在下一时间步的输入\n",
    "        dec_X = Y.argmax(dim=2)\n",
    "        pred = dec_X.squeeze(dim=0).type(torch.int32).item()\n",
    "        # 保存注意力权重（稍后讨论）\n",
    "        if save_attention_weights:\n",
    "            attention_weight_seq.append(net.decoder.attention_weights)\n",
    "        # 一旦序列结束词元被预测，输出序列的生成就完成了\n",
    "        if pred == tgt_vocab['<eos>']:\n",
    "            break\n",
    "        output_seq.append(pred)\n",
    "    return ' '.join(tgt_vocab.to_tokens(output_seq)), attention_weight_seq\n"
   ]
  },
  {
   "cell_type": "code",
   "execution_count": 20,
   "id": "4f23ab3f-c25a-47e4-9c50-1456ae38044a",
   "metadata": {
    "tags": []
   },
   "outputs": [],
   "source": [
    "def predict():\n",
    "    file = '../dataset/fra-eng/fra.txt'\n",
    "    device = 'cuda:0' if torch.cuda.is_available() else 'cpu'\n",
    "    num_steps = 5\n",
    "    data_iter,voc_src,voc_tar = mntDataLoader(file,64,600,10,True)\n",
    "    # print(voc_src.idx_to_token)\n",
    "    # print(voc_tar.idx_to_token)\n",
    "    encoder = Encoder(len(voc_src),32,32)\n",
    "    decoder = Decoder(len(voc_tar),32,32)\n",
    "    net = EncoderDecoder(encoder,decoder).to(device)\n",
    "    net.load_state_dict(torch.load('seq2seq.pth'))\n",
    "    engs = ['Go !', \"i lost .\", 'he\\'s calm .', 'i\\'m home .']\n",
    "    fras = ['va !', 'j\\'ai perdu .', 'il est calme .', 'je suis chez moi .']\n",
    "    for eng, fra in zip(engs, fras):\n",
    "        translation, attention_weight_seq = predict_seq2seq(\n",
    "            net, eng, voc_src, voc_tar, num_steps, device)\n",
    "        print(f'{eng} => {translation}')\n"
   ]
  },
  {
   "cell_type": "code",
   "execution_count": 21,
   "id": "5991aac8-9914-49be-9b12-f35ee81b9d3a",
   "metadata": {
    "tags": []
   },
   "outputs": [
    {
     "name": "stdout",
     "output_type": "stream",
     "text": [
      "Go ! => va !\n",
      "i lost . => j'ai perdu .\n",
      "he's calm . => il est paresseux .\n",
      "i'm home . => je suis je suis !\n"
     ]
    }
   ],
   "source": [
    "with torch.no_grad():\n",
    "    predict()"
   ]
  },
  {
   "cell_type": "code",
   "execution_count": null,
   "id": "e432996f-f7e9-4cde-961a-ed4083b52d42",
   "metadata": {},
   "outputs": [],
   "source": []
  }
 ],
 "metadata": {
  "kernelspec": {
   "display_name": "Python 3 (ipykernel)",
   "language": "python",
   "name": "python3"
  },
  "language_info": {
   "codemirror_mode": {
    "name": "ipython",
    "version": 3
   },
   "file_extension": ".py",
   "mimetype": "text/x-python",
   "name": "python",
   "nbconvert_exporter": "python",
   "pygments_lexer": "ipython3",
   "version": "3.8.10"
  }
 },
 "nbformat": 4,
 "nbformat_minor": 5
}
